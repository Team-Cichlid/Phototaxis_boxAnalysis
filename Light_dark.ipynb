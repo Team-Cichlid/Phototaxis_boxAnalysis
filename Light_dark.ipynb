{
 "cells": [
  {
   "cell_type": "code",
   "execution_count": 1,
   "id": "3f19748e-c6c7-4c7d-b770-b7b64bec021c",
   "metadata": {},
   "outputs": [],
   "source": [
    "# Import necessary libraries\n",
    "from dataframe_utils import * # this imports all the functions from our dataframe_utils including all the imports\n",
    "from plotting_utils import * # this imports all the functions from our plotting_utils\n",
    "%load_ext autoreload\n",
    "%autoreload 2"
   ]
  },
  {
   "cell_type": "code",
   "execution_count": 2,
   "id": "435a36d2-1093-4823-9efe-298672e629d3",
   "metadata": {
    "tags": []
   },
   "outputs": [
    {
     "data": {
      "text/plain": [
       "'/zstorage/hera/inShell/Analysis/code'"
      ]
     },
     "execution_count": 2,
     "metadata": {},
     "output_type": "execute_result"
    }
   ],
   "source": [
    "os.getcwd()\n",
    "# this is a windows command"
   ]
  },
  {
   "cell_type": "code",
   "execution_count": 3,
   "id": "d19a69d8-bfe6-4f70-b56e-be5ffd4faff5",
   "metadata": {},
   "outputs": [],
   "source": [
    "# NB this needs to change for each anaylsis run\n",
    "run_name = \"20230427\"\n",
    "start_age = 6 "
   ]
  },
  {
   "cell_type": "code",
   "execution_count": 4,
   "id": "05ac0ff6-ac62-4633-8ac7-f17b84998cda",
   "metadata": {},
   "outputs": [
    {
     "data": {
      "text/html": [
       "<div>\n",
       "<style scoped>\n",
       "    .dataframe tbody tr th:only-of-type {\n",
       "        vertical-align: middle;\n",
       "    }\n",
       "\n",
       "    .dataframe tbody tr th {\n",
       "        vertical-align: top;\n",
       "    }\n",
       "\n",
       "    .dataframe thead th {\n",
       "        text-align: right;\n",
       "    }\n",
       "</style>\n",
       "<table border=\"1\" class=\"dataframe\">\n",
       "  <thead>\n",
       "    <tr style=\"text-align: right;\">\n",
       "      <th></th>\n",
       "      <th>file_name</th>\n",
       "      <th>file_type</th>\n",
       "      <th>frame</th>\n",
       "      <th>class</th>\n",
       "      <th>xcenter_normalized</th>\n",
       "      <th>ycenter_normalized</th>\n",
       "      <th>width_normalized</th>\n",
       "      <th>height_normalized</th>\n",
       "      <th>confidence</th>\n",
       "    </tr>\n",
       "  </thead>\n",
       "  <tbody>\n",
       "    <tr>\n",
       "      <th>0</th>\n",
       "      <td>20230427_173238_010</td>\n",
       "      <td>image_</td>\n",
       "      <td>0</td>\n",
       "      <td>wriggler</td>\n",
       "      <td>0.287842</td>\n",
       "      <td>0.295166</td>\n",
       "      <td>0.023926</td>\n",
       "      <td>0.018066</td>\n",
       "      <td>0.504009</td>\n",
       "    </tr>\n",
       "    <tr>\n",
       "      <th>1</th>\n",
       "      <td>20230427_173238_010</td>\n",
       "      <td>image_</td>\n",
       "      <td>0</td>\n",
       "      <td>wriggler</td>\n",
       "      <td>0.287109</td>\n",
       "      <td>0.302734</td>\n",
       "      <td>0.024414</td>\n",
       "      <td>0.020508</td>\n",
       "      <td>0.702260</td>\n",
       "    </tr>\n",
       "    <tr>\n",
       "      <th>2</th>\n",
       "      <td>20230427_173238_010</td>\n",
       "      <td>image_</td>\n",
       "      <td>0</td>\n",
       "      <td>wriggler</td>\n",
       "      <td>0.287598</td>\n",
       "      <td>0.288086</td>\n",
       "      <td>0.026367</td>\n",
       "      <td>0.011719</td>\n",
       "      <td>0.773588</td>\n",
       "    </tr>\n",
       "    <tr>\n",
       "      <th>3</th>\n",
       "      <td>20230427_173238_010</td>\n",
       "      <td>image_</td>\n",
       "      <td>0</td>\n",
       "      <td>wriggler</td>\n",
       "      <td>0.311035</td>\n",
       "      <td>0.294189</td>\n",
       "      <td>0.024414</td>\n",
       "      <td>0.016113</td>\n",
       "      <td>0.810041</td>\n",
       "    </tr>\n",
       "    <tr>\n",
       "      <th>4</th>\n",
       "      <td>20230427_173238_010</td>\n",
       "      <td>image_</td>\n",
       "      <td>0</td>\n",
       "      <td>wriggler</td>\n",
       "      <td>0.291748</td>\n",
       "      <td>0.430420</td>\n",
       "      <td>0.023926</td>\n",
       "      <td>0.018066</td>\n",
       "      <td>0.827705</td>\n",
       "    </tr>\n",
       "  </tbody>\n",
       "</table>\n",
       "</div>"
      ],
      "text/plain": [
       "             file_name file_type  frame     class  xcenter_normalized  \\\n",
       "0  20230427_173238_010    image_      0  wriggler            0.287842   \n",
       "1  20230427_173238_010    image_      0  wriggler            0.287109   \n",
       "2  20230427_173238_010    image_      0  wriggler            0.287598   \n",
       "3  20230427_173238_010    image_      0  wriggler            0.311035   \n",
       "4  20230427_173238_010    image_      0  wriggler            0.291748   \n",
       "\n",
       "   ycenter_normalized  width_normalized  height_normalized  confidence  \n",
       "0            0.295166          0.023926           0.018066    0.504009  \n",
       "1            0.302734          0.024414           0.020508    0.702260  \n",
       "2            0.288086          0.026367           0.011719    0.773588  \n",
       "3            0.294189          0.024414           0.016113    0.810041  \n",
       "4            0.430420          0.023926           0.018066    0.827705  "
      ]
     },
     "execution_count": 4,
     "metadata": {},
     "output_type": "execute_result"
    }
   ],
   "source": [
    "df = pd.read_csv(f'../{run_name}/data/{run_name}.csv')\n",
    "df.head()"
   ]
  },
  {
   "cell_type": "markdown",
   "id": "ccc82c6d-9679-409d-abe5-696c88f75181",
   "metadata": {},
   "source": [
    "##  Creating additional columns"
   ]
  },
  {
   "cell_type": "code",
   "execution_count": 5,
   "id": "a807cfa9-347a-469b-82c9-4b4f2586916b",
   "metadata": {},
   "outputs": [],
   "source": [
    "df[\"file_name\"] = df[\"file_name\"].astype(str)"
   ]
  },
  {
   "cell_type": "code",
   "execution_count": 6,
   "id": "a47543f8-88a4-470e-9324-76975a585c95",
   "metadata": {
    "scrolled": true,
    "tags": []
   },
   "outputs": [],
   "source": [
    "# Adding time: add_time_col is a function in dataframe_utils\n",
    "df = add_time_col(df)"
   ]
  },
  {
   "cell_type": "code",
   "execution_count": 7,
   "id": "e24d63b6-72eb-420d-8758-37d516e52c6b",
   "metadata": {},
   "outputs": [],
   "source": [
    "# # Adding an absolute time column\n",
    "#df = add_relative_time_col(df)"
   ]
  },
  {
   "cell_type": "code",
   "execution_count": 8,
   "id": "7a7d4386-9f4d-4cf5-b7ce-9edb0bb52fc8",
   "metadata": {
    "tags": []
   },
   "outputs": [],
   "source": [
    "# Adding dpf: function in dataframe_utils applied to each element in a series (column)\n",
    "df = add_dpf_col_human_time(df)"
   ]
  },
  {
   "cell_type": "code",
   "execution_count": 9,
   "id": "950fdc46-9c4e-4b3a-82e7-04c242206964",
   "metadata": {},
   "outputs": [],
   "source": [
    "df['dpf']=df['dpf']+ start_age"
   ]
  },
  {
   "cell_type": "code",
   "execution_count": 10,
   "id": "15d98aca-71ee-4b92-8937-1430193d48f3",
   "metadata": {},
   "outputs": [],
   "source": [
    "df['day_period'] = df['time_of_day'].apply(lambda x: '1' if 0 <= x.hour <= 5 else '2' if 6 <= x.hour <= 11 else '3' if 12 <= x.hour <= 17 else \"4\")"
   ]
  },
  {
   "cell_type": "code",
   "execution_count": 11,
   "id": "ca5b07a9-c7cd-42c8-a085-5a1fd53c6ab8",
   "metadata": {},
   "outputs": [],
   "source": [
    "df = df[df[\"confidence\"]>= 0.5]"
   ]
  },
  {
   "cell_type": "code",
   "execution_count": 12,
   "id": "cdb85078-530a-442e-ad7c-5c425948d698",
   "metadata": {},
   "outputs": [
    {
     "data": {
      "text/html": [
       "<div>\n",
       "<style scoped>\n",
       "    .dataframe tbody tr th:only-of-type {\n",
       "        vertical-align: middle;\n",
       "    }\n",
       "\n",
       "    .dataframe tbody tr th {\n",
       "        vertical-align: top;\n",
       "    }\n",
       "\n",
       "    .dataframe thead th {\n",
       "        text-align: right;\n",
       "    }\n",
       "</style>\n",
       "<table border=\"1\" class=\"dataframe\">\n",
       "  <thead>\n",
       "    <tr style=\"text-align: right;\">\n",
       "      <th></th>\n",
       "      <th>file_name</th>\n",
       "      <th>file_type</th>\n",
       "      <th>frame</th>\n",
       "      <th>class</th>\n",
       "      <th>xcenter_normalized</th>\n",
       "      <th>ycenter_normalized</th>\n",
       "      <th>width_normalized</th>\n",
       "      <th>height_normalized</th>\n",
       "      <th>confidence</th>\n",
       "      <th>time_of_day</th>\n",
       "      <th>dpf</th>\n",
       "      <th>day_period</th>\n",
       "    </tr>\n",
       "  </thead>\n",
       "  <tbody>\n",
       "    <tr>\n",
       "      <th>5411</th>\n",
       "      <td>20230427_132214_010</td>\n",
       "      <td>image_</td>\n",
       "      <td>0</td>\n",
       "      <td>wriggler</td>\n",
       "      <td>0.406006</td>\n",
       "      <td>0.285889</td>\n",
       "      <td>0.022949</td>\n",
       "      <td>0.017090</td>\n",
       "      <td>0.763499</td>\n",
       "      <td>2023-04-27 13:22:14</td>\n",
       "      <td>6</td>\n",
       "      <td>3</td>\n",
       "    </tr>\n",
       "    <tr>\n",
       "      <th>5412</th>\n",
       "      <td>20230427_132214_010</td>\n",
       "      <td>image_</td>\n",
       "      <td>0</td>\n",
       "      <td>wriggler</td>\n",
       "      <td>0.704590</td>\n",
       "      <td>0.479980</td>\n",
       "      <td>0.020508</td>\n",
       "      <td>0.026367</td>\n",
       "      <td>0.779802</td>\n",
       "      <td>2023-04-27 13:22:14</td>\n",
       "      <td>6</td>\n",
       "      <td>3</td>\n",
       "    </tr>\n",
       "    <tr>\n",
       "      <th>5413</th>\n",
       "      <td>20230427_132214_010</td>\n",
       "      <td>image_</td>\n",
       "      <td>0</td>\n",
       "      <td>wriggler</td>\n",
       "      <td>0.480469</td>\n",
       "      <td>0.298340</td>\n",
       "      <td>0.039062</td>\n",
       "      <td>0.020508</td>\n",
       "      <td>0.821346</td>\n",
       "      <td>2023-04-27 13:22:14</td>\n",
       "      <td>6</td>\n",
       "      <td>3</td>\n",
       "    </tr>\n",
       "    <tr>\n",
       "      <th>5414</th>\n",
       "      <td>20230427_132214_010</td>\n",
       "      <td>image_</td>\n",
       "      <td>0</td>\n",
       "      <td>wriggler</td>\n",
       "      <td>0.674805</td>\n",
       "      <td>0.294678</td>\n",
       "      <td>0.024414</td>\n",
       "      <td>0.031738</td>\n",
       "      <td>0.839269</td>\n",
       "      <td>2023-04-27 13:22:14</td>\n",
       "      <td>6</td>\n",
       "      <td>3</td>\n",
       "    </tr>\n",
       "    <tr>\n",
       "      <th>5415</th>\n",
       "      <td>20230427_132214_010</td>\n",
       "      <td>image_</td>\n",
       "      <td>0</td>\n",
       "      <td>wriggler</td>\n",
       "      <td>0.283936</td>\n",
       "      <td>0.292969</td>\n",
       "      <td>0.023926</td>\n",
       "      <td>0.032227</td>\n",
       "      <td>0.857135</td>\n",
       "      <td>2023-04-27 13:22:14</td>\n",
       "      <td>6</td>\n",
       "      <td>3</td>\n",
       "    </tr>\n",
       "  </tbody>\n",
       "</table>\n",
       "</div>"
      ],
      "text/plain": [
       "                file_name file_type  frame     class  xcenter_normalized  \\\n",
       "5411  20230427_132214_010    image_      0  wriggler            0.406006   \n",
       "5412  20230427_132214_010    image_      0  wriggler            0.704590   \n",
       "5413  20230427_132214_010    image_      0  wriggler            0.480469   \n",
       "5414  20230427_132214_010    image_      0  wriggler            0.674805   \n",
       "5415  20230427_132214_010    image_      0  wriggler            0.283936   \n",
       "\n",
       "      ycenter_normalized  width_normalized  height_normalized  confidence  \\\n",
       "5411            0.285889          0.022949           0.017090    0.763499   \n",
       "5412            0.479980          0.020508           0.026367    0.779802   \n",
       "5413            0.298340          0.039062           0.020508    0.821346   \n",
       "5414            0.294678          0.024414           0.031738    0.839269   \n",
       "5415            0.292969          0.023926           0.032227    0.857135   \n",
       "\n",
       "             time_of_day  dpf day_period  \n",
       "5411 2023-04-27 13:22:14    6          3  \n",
       "5412 2023-04-27 13:22:14    6          3  \n",
       "5413 2023-04-27 13:22:14    6          3  \n",
       "5414 2023-04-27 13:22:14    6          3  \n",
       "5415 2023-04-27 13:22:14    6          3  "
      ]
     },
     "execution_count": 12,
     "metadata": {},
     "output_type": "execute_result"
    }
   ],
   "source": [
    "df.head()"
   ]
  },
  {
   "cell_type": "code",
   "execution_count": null,
   "id": "8ec1ab97-457d-4833-892c-a07deca1c6aa",
   "metadata": {},
   "outputs": [],
   "source": []
  },
  {
   "cell_type": "markdown",
   "id": "aa9582b4-cbf0-48d2-8b70-8be146e86786",
   "metadata": {
    "tags": []
   },
   "source": [
    "## Extract ROI column (single df)"
   ]
  },
  {
   "cell_type": "markdown",
   "id": "c04f69a2-b469-49c4-9d21-bc0e20a3bb88",
   "metadata": {},
   "source": [
    "#### Load ROI json file"
   ]
  },
  {
   "cell_type": "code",
   "execution_count": 13,
   "id": "01b1699f-7ecf-477e-8c56-bfc990a388fb",
   "metadata": {},
   "outputs": [],
   "source": [
    "ROI_file_path = f'../{run_name}/data/{run_name}.json'\n",
    "ROI_dict = get_ROI_dict(ROI_file_path)"
   ]
  },
  {
   "cell_type": "markdown",
   "id": "24b6a15c-d204-4d7a-a8ca-6da57c6eb2fe",
   "metadata": {},
   "source": [
    "#### Plot ROIs on frame"
   ]
  },
  {
   "cell_type": "code",
   "execution_count": 14,
   "id": "5140349b-cbb0-45ea-9e70-95c29e56cf3f",
   "metadata": {},
   "outputs": [],
   "source": [
    "# define a function to plot our ROIs on the background frame (as a sanity check)\n",
    "from matplotlib.patches import PathPatch\n",
    "\n",
    "reference_frame_path = f'../{run_name}/data/{run_name}_reference_frame.JPEG'\n",
    "backgd_img = plt.imread(reference_frame_path) # load backround frame to plot ROIs on\n",
    "def plot_chambers(polygons_dict):\n",
    "    fig, ax = plt.subplots(1, 1)\n",
    "\n",
    "    ax.imshow(backgd_img, cmap='gray')\n",
    "\n",
    "    for roi_label, roi_polygon in polygons_dict.items():\n",
    "        patch = PathPatch(roi_polygon, facecolor='blue', lw=1, alpha=0.4)\n",
    "        ax.text(*np.mean(roi_polygon.vertices, axis=0), roi_label, color='white', size='small')\n",
    "        ax.add_patch(patch)\n",
    "    plt.xticks([])\n",
    "    plt.yticks([])\n",
    "    plt.show()\n",
    "    return fig"
   ]
  },
  {
   "cell_type": "code",
   "execution_count": 15,
   "id": "7dbd3e33-455f-474e-9259-a9c7e7358c3b",
   "metadata": {},
   "outputs": [
    {
     "data": {
      "image/png": "[encoded data removed]",
      "text/plain": [
       "<Figure size 640x480 with 1 Axes>"
      ]
     },
     "metadata": {},
     "output_type": "display_data"
    }
   ],
   "source": [
    "fig = plot_chambers(ROI_dict)"
   ]
  },
  {
   "cell_type": "code",
   "execution_count": 16,
   "id": "92020ad7-6b7b-4775-879c-942a4d777287",
   "metadata": {},
   "outputs": [
    {
     "name": "stdout",
     "output_type": "stream",
     "text": [
      "Figure saved to: /zstorage/hera/inShell/Analysis/20230427/plots/20230427_ROI.pdf\n"
     ]
    }
   ],
   "source": [
    "figure_path = f'../{run_name}/plots/{run_name}_ROI.pdf'\n",
    "save_figure(fig, figure_path)"
   ]
  },
  {
   "cell_type": "code",
   "execution_count": 17,
   "id": "ea6cabc2-44d7-4fea-8500-971a2190ef6e",
   "metadata": {},
   "outputs": [
    {
     "data": {
      "text/plain": [
       "(2048, 2048)"
      ]
     },
     "execution_count": 17,
     "metadata": {},
     "output_type": "execute_result"
    }
   ],
   "source": [
    "backgd_img.shape"
   ]
  },
  {
   "cell_type": "code",
   "execution_count": 18,
   "id": "8695d46b-8b5a-4d8d-9933-9411ab0e73ed",
   "metadata": {},
   "outputs": [
    {
     "data": {
      "text/plain": [
       "(2048, 2048)"
      ]
     },
     "execution_count": 18,
     "metadata": {},
     "output_type": "execute_result"
    }
   ],
   "source": [
    "# get the width and height of the frame\n",
    "height, width= backgd_img.shape\n",
    "# this is needed as our position coordinates are normalized between 0 and 1 while our ROI coordinates are not\n",
    "height, width"
   ]
  },
  {
   "cell_type": "code",
   "execution_count": 19,
   "id": "4b0ac823-dd9c-492a-9361-ff64351d55fc",
   "metadata": {},
   "outputs": [],
   "source": [
    "# apply the above function to the x and y coordinates in each row of our larvae dataframe\n",
    "# Add + n to \"larvae[\"dpf\"] = larvae[\"dpf\"]\" if the run is started later than 0 dpf\n",
    "df = add_ROI_col(df, width, height, ROI_dict)\n",
    "df[\"dpf\"] = df[\"dpf\"]"
   ]
  },
  {
   "cell_type": "code",
   "execution_count": 20,
   "id": "a5b23da1-0056-40ee-b0b1-c41cfd854eb7",
   "metadata": {},
   "outputs": [
    {
     "data": {
      "text/html": [
       "<div>\n",
       "<style scoped>\n",
       "    .dataframe tbody tr th:only-of-type {\n",
       "        vertical-align: middle;\n",
       "    }\n",
       "\n",
       "    .dataframe tbody tr th {\n",
       "        vertical-align: top;\n",
       "    }\n",
       "\n",
       "    .dataframe thead th {\n",
       "        text-align: right;\n",
       "    }\n",
       "</style>\n",
       "<table border=\"1\" class=\"dataframe\">\n",
       "  <thead>\n",
       "    <tr style=\"text-align: right;\">\n",
       "      <th></th>\n",
       "      <th>file_name</th>\n",
       "      <th>file_type</th>\n",
       "      <th>frame</th>\n",
       "      <th>class</th>\n",
       "      <th>xcenter_normalized</th>\n",
       "      <th>ycenter_normalized</th>\n",
       "      <th>width_normalized</th>\n",
       "      <th>height_normalized</th>\n",
       "      <th>confidence</th>\n",
       "      <th>time_of_day</th>\n",
       "      <th>dpf</th>\n",
       "      <th>day_period</th>\n",
       "      <th>ROI</th>\n",
       "    </tr>\n",
       "  </thead>\n",
       "  <tbody>\n",
       "    <tr>\n",
       "      <th>5411</th>\n",
       "      <td>20230427_132214_010</td>\n",
       "      <td>image_</td>\n",
       "      <td>0</td>\n",
       "      <td>wriggler</td>\n",
       "      <td>0.406006</td>\n",
       "      <td>0.285889</td>\n",
       "      <td>0.022949</td>\n",
       "      <td>0.017090</td>\n",
       "      <td>0.763499</td>\n",
       "      <td>2023-04-27 13:22:14</td>\n",
       "      <td>6</td>\n",
       "      <td>3</td>\n",
       "      <td>dark_one</td>\n",
       "    </tr>\n",
       "    <tr>\n",
       "      <th>5412</th>\n",
       "      <td>20230427_132214_010</td>\n",
       "      <td>image_</td>\n",
       "      <td>0</td>\n",
       "      <td>wriggler</td>\n",
       "      <td>0.704590</td>\n",
       "      <td>0.479980</td>\n",
       "      <td>0.020508</td>\n",
       "      <td>0.026367</td>\n",
       "      <td>0.779802</td>\n",
       "      <td>2023-04-27 13:22:14</td>\n",
       "      <td>6</td>\n",
       "      <td>3</td>\n",
       "      <td>light_one</td>\n",
       "    </tr>\n",
       "    <tr>\n",
       "      <th>5413</th>\n",
       "      <td>20230427_132214_010</td>\n",
       "      <td>image_</td>\n",
       "      <td>0</td>\n",
       "      <td>wriggler</td>\n",
       "      <td>0.480469</td>\n",
       "      <td>0.298340</td>\n",
       "      <td>0.039062</td>\n",
       "      <td>0.020508</td>\n",
       "      <td>0.821346</td>\n",
       "      <td>2023-04-27 13:22:14</td>\n",
       "      <td>6</td>\n",
       "      <td>3</td>\n",
       "      <td>dark_one</td>\n",
       "    </tr>\n",
       "    <tr>\n",
       "      <th>5414</th>\n",
       "      <td>20230427_132214_010</td>\n",
       "      <td>image_</td>\n",
       "      <td>0</td>\n",
       "      <td>wriggler</td>\n",
       "      <td>0.674805</td>\n",
       "      <td>0.294678</td>\n",
       "      <td>0.024414</td>\n",
       "      <td>0.031738</td>\n",
       "      <td>0.839269</td>\n",
       "      <td>2023-04-27 13:22:14</td>\n",
       "      <td>6</td>\n",
       "      <td>3</td>\n",
       "      <td>light_one</td>\n",
       "    </tr>\n",
       "    <tr>\n",
       "      <th>5415</th>\n",
       "      <td>20230427_132214_010</td>\n",
       "      <td>image_</td>\n",
       "      <td>0</td>\n",
       "      <td>wriggler</td>\n",
       "      <td>0.283936</td>\n",
       "      <td>0.292969</td>\n",
       "      <td>0.023926</td>\n",
       "      <td>0.032227</td>\n",
       "      <td>0.857135</td>\n",
       "      <td>2023-04-27 13:22:14</td>\n",
       "      <td>6</td>\n",
       "      <td>3</td>\n",
       "      <td>dark_one</td>\n",
       "    </tr>\n",
       "  </tbody>\n",
       "</table>\n",
       "</div>"
      ],
      "text/plain": [
       "                file_name file_type  frame     class  xcenter_normalized  \\\n",
       "5411  20230427_132214_010    image_      0  wriggler            0.406006   \n",
       "5412  20230427_132214_010    image_      0  wriggler            0.704590   \n",
       "5413  20230427_132214_010    image_      0  wriggler            0.480469   \n",
       "5414  20230427_132214_010    image_      0  wriggler            0.674805   \n",
       "5415  20230427_132214_010    image_      0  wriggler            0.283936   \n",
       "\n",
       "      ycenter_normalized  width_normalized  height_normalized  confidence  \\\n",
       "5411            0.285889          0.022949           0.017090    0.763499   \n",
       "5412            0.479980          0.020508           0.026367    0.779802   \n",
       "5413            0.298340          0.039062           0.020508    0.821346   \n",
       "5414            0.294678          0.024414           0.031738    0.839269   \n",
       "5415            0.292969          0.023926           0.032227    0.857135   \n",
       "\n",
       "             time_of_day  dpf day_period        ROI  \n",
       "5411 2023-04-27 13:22:14    6          3   dark_one  \n",
       "5412 2023-04-27 13:22:14    6          3  light_one  \n",
       "5413 2023-04-27 13:22:14    6          3   dark_one  \n",
       "5414 2023-04-27 13:22:14    6          3  light_one  \n",
       "5415 2023-04-27 13:22:14    6          3   dark_one  "
      ]
     },
     "execution_count": 20,
     "metadata": {},
     "output_type": "execute_result"
    }
   ],
   "source": [
    "df.head()"
   ]
  },
  {
   "cell_type": "code",
   "execution_count": null,
   "id": "ad9a4fa9-7d16-4df1-8925-26fe4e7bdb3c",
   "metadata": {},
   "outputs": [],
   "source": [
    "concatinate tables here"
   ]
  },
  {
   "cell_type": "markdown",
   "id": "327cceff-5f54-4cfd-91ef-e791469f4515",
   "metadata": {},
   "source": [
    "## Tallying larvae numbers"
   ]
  },
  {
   "cell_type": "code",
   "execution_count": 21,
   "id": "11627e82-9582-422e-9abe-b34611712dc2",
   "metadata": {
    "scrolled": true
   },
   "outputs": [
    {
     "data": {
      "text/html": [
       "<div>\n",
       "<style scoped>\n",
       "    .dataframe tbody tr th:only-of-type {\n",
       "        vertical-align: middle;\n",
       "    }\n",
       "\n",
       "    .dataframe tbody tr th {\n",
       "        vertical-align: top;\n",
       "    }\n",
       "\n",
       "    .dataframe thead th {\n",
       "        text-align: right;\n",
       "    }\n",
       "</style>\n",
       "<table border=\"1\" class=\"dataframe\">\n",
       "  <thead>\n",
       "    <tr style=\"text-align: right;\">\n",
       "      <th></th>\n",
       "      <th>dpf</th>\n",
       "      <th>day_period</th>\n",
       "      <th>dark_one</th>\n",
       "      <th>light_one</th>\n",
       "      <th>outside</th>\n",
       "    </tr>\n",
       "  </thead>\n",
       "  <tbody>\n",
       "    <tr>\n",
       "      <th>0</th>\n",
       "      <td>6</td>\n",
       "      <td>3</td>\n",
       "      <td>5510</td>\n",
       "      <td>1933</td>\n",
       "      <td>2</td>\n",
       "    </tr>\n",
       "    <tr>\n",
       "      <th>1</th>\n",
       "      <td>6</td>\n",
       "      <td>4</td>\n",
       "      <td>8573</td>\n",
       "      <td>584</td>\n",
       "      <td>3</td>\n",
       "    </tr>\n",
       "    <tr>\n",
       "      <th>2</th>\n",
       "      <td>7</td>\n",
       "      <td>1</td>\n",
       "      <td>9736</td>\n",
       "      <td>472</td>\n",
       "      <td>5</td>\n",
       "    </tr>\n",
       "    <tr>\n",
       "      <th>3</th>\n",
       "      <td>7</td>\n",
       "      <td>2</td>\n",
       "      <td>9842</td>\n",
       "      <td>176</td>\n",
       "      <td>10</td>\n",
       "    </tr>\n",
       "    <tr>\n",
       "      <th>4</th>\n",
       "      <td>7</td>\n",
       "      <td>3</td>\n",
       "      <td>2837</td>\n",
       "      <td>44</td>\n",
       "      <td>0</td>\n",
       "    </tr>\n",
       "  </tbody>\n",
       "</table>\n",
       "</div>"
      ],
      "text/plain": [
       "   dpf day_period  dark_one  light_one  outside\n",
       "0    6          3      5510       1933        2\n",
       "1    6          4      8573        584        3\n",
       "2    7          1      9736        472        5\n",
       "3    7          2      9842        176       10\n",
       "4    7          3      2837         44        0"
      ]
     },
     "execution_count": 21,
     "metadata": {},
     "output_type": "execute_result"
    }
   ],
   "source": [
    "preference_table = pd.pivot_table(df, values='frame', index=['dpf', 'day_period'],\n",
    "                    columns=['ROI'], aggfunc=\"count\", fill_value=0)\n",
    "preference_table.reset_index(inplace=True)\n",
    "preference_table = preference_table.rename_axis(None, axis=1)\n",
    "preference_table.head(10)"
   ]
  },
  {
   "cell_type": "code",
   "execution_count": 22,
   "id": "1c084cc1-3409-4392-b8d8-ff406b5b6673",
   "metadata": {},
   "outputs": [],
   "source": [
    "preference_table['total']= preference_table['dark_one']+preference_table['light_one']+preference_table['outside']\n",
    "preference_table['percentage']= (preference_table['dark_one']/preference_table['total'])*100"
   ]
  },
  {
   "cell_type": "code",
   "execution_count": 23,
   "id": "8a8c4f87-bcc4-4b49-aa7b-aee76c74adb0",
   "metadata": {},
   "outputs": [
    {
     "data": {
      "text/html": [
       "<div>\n",
       "<style scoped>\n",
       "    .dataframe tbody tr th:only-of-type {\n",
       "        vertical-align: middle;\n",
       "    }\n",
       "\n",
       "    .dataframe tbody tr th {\n",
       "        vertical-align: top;\n",
       "    }\n",
       "\n",
       "    .dataframe thead th {\n",
       "        text-align: right;\n",
       "    }\n",
       "</style>\n",
       "<table border=\"1\" class=\"dataframe\">\n",
       "  <thead>\n",
       "    <tr style=\"text-align: right;\">\n",
       "      <th></th>\n",
       "      <th>dpf</th>\n",
       "      <th>day_period</th>\n",
       "      <th>dark_one</th>\n",
       "      <th>light_one</th>\n",
       "      <th>outside</th>\n",
       "      <th>total</th>\n",
       "      <th>percentage</th>\n",
       "    </tr>\n",
       "  </thead>\n",
       "  <tbody>\n",
       "    <tr>\n",
       "      <th>0</th>\n",
       "      <td>6</td>\n",
       "      <td>3</td>\n",
       "      <td>5510</td>\n",
       "      <td>1933</td>\n",
       "      <td>2</td>\n",
       "      <td>7445</td>\n",
       "      <td>74.009402</td>\n",
       "    </tr>\n",
       "    <tr>\n",
       "      <th>1</th>\n",
       "      <td>6</td>\n",
       "      <td>4</td>\n",
       "      <td>8573</td>\n",
       "      <td>584</td>\n",
       "      <td>3</td>\n",
       "      <td>9160</td>\n",
       "      <td>93.591703</td>\n",
       "    </tr>\n",
       "    <tr>\n",
       "      <th>2</th>\n",
       "      <td>7</td>\n",
       "      <td>1</td>\n",
       "      <td>9736</td>\n",
       "      <td>472</td>\n",
       "      <td>5</td>\n",
       "      <td>10213</td>\n",
       "      <td>95.329482</td>\n",
       "    </tr>\n",
       "    <tr>\n",
       "      <th>3</th>\n",
       "      <td>7</td>\n",
       "      <td>2</td>\n",
       "      <td>9842</td>\n",
       "      <td>176</td>\n",
       "      <td>10</td>\n",
       "      <td>10028</td>\n",
       "      <td>98.145193</td>\n",
       "    </tr>\n",
       "    <tr>\n",
       "      <th>4</th>\n",
       "      <td>7</td>\n",
       "      <td>3</td>\n",
       "      <td>2837</td>\n",
       "      <td>44</td>\n",
       "      <td>0</td>\n",
       "      <td>2881</td>\n",
       "      <td>98.472753</td>\n",
       "    </tr>\n",
       "  </tbody>\n",
       "</table>\n",
       "</div>"
      ],
      "text/plain": [
       "   dpf day_period  dark_one  light_one  outside  total  percentage\n",
       "0    6          3      5510       1933        2   7445   74.009402\n",
       "1    6          4      8573        584        3   9160   93.591703\n",
       "2    7          1      9736        472        5  10213   95.329482\n",
       "3    7          2      9842        176       10  10028   98.145193\n",
       "4    7          3      2837         44        0   2881   98.472753"
      ]
     },
     "execution_count": 23,
     "metadata": {},
     "output_type": "execute_result"
    }
   ],
   "source": [
    "preference_table.head(10)"
   ]
  },
  {
   "cell_type": "code",
   "execution_count": 31,
   "id": "06c20418-bdb9-4a68-8661-60bce8391ae2",
   "metadata": {},
   "outputs": [],
   "source": [
    "# Pre-graphing definitions \n",
    "x_labels = preference_table.apply(lambda x: f'{x[\"dpf\"]} - {x[\"day_period\"]}', axis=1)\n",
    "colors = {'1': 'gray', '2': 'gold', '3': 'gold', '4':'gray'}"
   ]
  },
  {
   "cell_type": "code",
   "execution_count": 38,
   "id": "ca28e506-d1c7-490f-b17d-936f5e45d01a",
   "metadata": {},
   "outputs": [
    {
     "data": {
      "image/png": "[encoded data removed]",
      "text/plain": [
       "<Figure size 640x480 with 1 Axes>"
      ]
     },
     "metadata": {},
     "output_type": "display_data"
    }
   ],
   "source": [
    "#plotting the simple graph \n",
    "plt.bar(preference_table.index, preference_table['percentage'], color='grey')\n",
    "\n",
    "ax = plt.gca()\n",
    "ax.spines['top'].set_visible(False)\n",
    "ax.spines['right'].set_visible(False)\n",
    "plt.xticks(preference_table.index, x_labels, rotation=45)\n",
    "\n",
    "# Show the plot\n",
    "plt.show()"
   ]
  },
  {
   "cell_type": "code",
   "execution_count": 35,
   "id": "a30f3035-a597-4956-8ad1-e720baf815db",
   "metadata": {},
   "outputs": [
    {
     "data": {
      "image/png": "[encoded data removed]",
      "text/plain": [
       "<Figure size 640x480 with 1 Axes>"
      ]
     },
     "metadata": {},
     "output_type": "display_data"
    }
   ],
   "source": [
    "# graph with day night colours but WRONG x axis label\n",
    "fig, ax = plt.subplots()\n",
    "for i, subcat in enumerate(preference_table['day_period'].unique()):\n",
    "    sub_df = preference_table[preference_table['day_period'] == subcat]\n",
    "    ax.bar(sub_df.index, sub_df['percentage'], color=colors[subcat], label=subcat)\n",
    "\n",
    "ax.spines['top'].set_visible(False)\n",
    "ax.spines['right'].set_visible(False)\n",
    "ax.set_xticks(tick_pos)\n",
    "ax.set_xticklabels(x_labels, rotation=45)\n",
    "\n",
    "plt.show()"
   ]
  },
  {
   "cell_type": "code",
   "execution_count": 57,
   "id": "4aef7c5e-6595-437c-99d7-78f6c26b6a0e",
   "metadata": {},
   "outputs": [
    {
     "ename": "NameError",
     "evalue": "name 'percentage' is not defined",
     "output_type": "error",
     "traceback": [
      "\u001b[0;31m---------------------------------------------------------------------------\u001b[0m",
      "\u001b[0;31mNameError\u001b[0m                                 Traceback (most recent call last)",
      "\u001b[0;32m/tmp/ipykernel_127986/897736118.py\u001b[0m in \u001b[0;36m<module>\u001b[0;34m\u001b[0m\n\u001b[1;32m      1\u001b[0m \u001b[0mfig\u001b[0m\u001b[0;34m,\u001b[0m \u001b[0max\u001b[0m \u001b[0;34m=\u001b[0m \u001b[0mplt\u001b[0m\u001b[0;34m.\u001b[0m\u001b[0msubplots\u001b[0m\u001b[0;34m(\u001b[0m\u001b[0;34m)\u001b[0m\u001b[0;34m\u001b[0m\u001b[0;34m\u001b[0m\u001b[0m\n\u001b[1;32m      2\u001b[0m \u001b[0;34m\u001b[0m\u001b[0m\n\u001b[0;32m----> 3\u001b[0;31m \u001b[0max\u001b[0m\u001b[0;34m.\u001b[0m\u001b[0mbar\u001b[0m\u001b[0;34m(\u001b[0m\u001b[0mpercentage\u001b[0m\u001b[0;34m,\u001b[0m \u001b[0mbar_width\u001b[0m\u001b[0;34m,\u001b[0m \u001b[0mlabel\u001b[0m\u001b[0;34m=\u001b[0m\u001b[0;34m'night'\u001b[0m\u001b[0;34m,\u001b[0m \u001b[0mcolor\u001b[0m\u001b[0;34m=\u001b[0m\u001b[0;34m'black'\u001b[0m\u001b[0;34m,\u001b[0m \u001b[0medgecolor\u001b[0m\u001b[0;34m=\u001b[0m\u001b[0;34m'black'\u001b[0m\u001b[0;34m)\u001b[0m\u001b[0;34m\u001b[0m\u001b[0;34m\u001b[0m\u001b[0m\n\u001b[0m\u001b[1;32m      4\u001b[0m \u001b[0max\u001b[0m\u001b[0;34m.\u001b[0m\u001b[0mset_xticks\u001b[0m\u001b[0;34m(\u001b[0m\u001b[0mlabels\u001b[0m\u001b[0;34m)\u001b[0m\u001b[0;34m\u001b[0m\u001b[0;34m\u001b[0m\u001b[0m\n\u001b[1;32m      5\u001b[0m \u001b[0;34m\u001b[0m\u001b[0m\n",
      "\u001b[0;31mNameError\u001b[0m: name 'percentage' is not defined"
     ]
    },
    {
     "data": {
      "image/png": "[encoded data removed]",
      "text/plain": [
       "<Figure size 640x480 with 1 Axes>"
      ]
     },
     "metadata": {},
     "output_type": "display_data"
    }
   ],
   "source": [
    "fig, ax = plt.subplots()\n",
    "\n",
    "ax.bar(percentage, bar_width, label='night', color='black', edgecolor='black')\n",
    "ax.set_xticks(labels)\n",
    "\n",
    "ax.spines['top'].set_visible(False)\n",
    "ax.spines['right'].set_visible(False)\n",
    "# ax.spines['bottom'].set_visible(False)\n",
    "# ax.spines['left'].set_visible(False)\n",
    "ax.set_ylabel('Time spent inside shell (frames)')\n",
    "ax.set_xlabel('Days post fertilisation')\n",
    "ax.set_title('Mom visits')\n",
    "\n",
    "plt.show()"
   ]
  },
  {
   "cell_type": "markdown",
   "id": "b4405db9-37b7-446f-acf3-b5be3f32b079",
   "metadata": {
    "tags": []
   },
   "source": [
    "#### Visitation total (day and nights)"
   ]
  },
  {
   "cell_type": "code",
   "execution_count": 70,
   "id": "f0622200-2a86-4d65-98ed-6264837326cc",
   "metadata": {},
   "outputs": [
    {
     "data": {
      "text/plain": [
       "(-0.5, 12.5)"
      ]
     },
     "execution_count": 70,
     "metadata": {},
     "output_type": "execute_result"
    },
    {
     "data": {
      "image/png": "[encoded data removed]",
      "text/plain": [
       "<Figure size 640x480 with 1 Axes>"
      ]
     },
     "metadata": {},
     "output_type": "display_data"
    }
   ],
   "source": [
    "# fig, ax = plt.subplots()\n",
    "# labels = range(max(visitation_counts['dpf'])+1)\n",
    "# bar_width = 0.8 \n",
    "# ax.set_xlim(-0.5,12.5)"
   ]
  },
  {
   "cell_type": "code",
   "execution_count": 71,
   "id": "dca1e04e-ccb9-4507-b48e-12682aeeccba",
   "metadata": {},
   "outputs": [
    {
     "data": {
      "text/plain": [
       "range(0, 12)"
      ]
     },
     "execution_count": 71,
     "metadata": {},
     "output_type": "execute_result"
    }
   ],
   "source": [
    "range(max(visitation_counts['dpf'])+1)"
   ]
  },
  {
   "cell_type": "code",
   "execution_count": 76,
   "id": "e109e14f-b660-4c76-b799-c5dabf32456d",
   "metadata": {},
   "outputs": [
    {
     "data": {
      "image/png": "[encoded data removed]",
      "text/plain": [
       "<Figure size 640x480 with 1 Axes>"
      ]
     },
     "metadata": {},
     "output_type": "display_data"
    }
   ],
   "source": [
    "# for when day and night counts exist\n",
    "fig, ax = plt.subplots()\n",
    "\n",
    "ax.bar(labels, night_counts, bar_width, label='night', color='black', edgecolor='black')\n",
    "ax.bar(labels, day_counts, bar_width, bottom=night_counts, label='day', color='black', edgecolor='black')\n",
    "ax.set_xticks(labels)\n",
    "\n",
    "ax.spines['top'].set_visible(False)\n",
    "ax.spines['right'].set_visible(False)\n",
    "# ax.spines['bottom'].set_visible(False)\n",
    "# ax.spines['left'].set_visible(False)\n",
    "ax.set_ylabel('Time spent inside shell (frames)')\n",
    "ax.set_xlabel('Days post fertilisation')\n",
    "ax.set_title('Mom visits')\n",
    "\n",
    "plt.show()"
   ]
  }
 ],
 "metadata": {
  "kernelspec": {
   "display_name": "Python 3 (ipykernel)",
   "language": "python",
   "name": "python3"
  },
  "language_info": {
   "codemirror_mode": {
    "name": "ipython",
    "version": 3
   },
   "file_extension": ".py",
   "mimetype": "text/x-python",
   "name": "python",
   "nbconvert_exporter": "python",
   "pygments_lexer": "ipython3",
   "version": "3.7.12"
  }
 },
 "nbformat": 4,
 "nbformat_minor": 5
}
